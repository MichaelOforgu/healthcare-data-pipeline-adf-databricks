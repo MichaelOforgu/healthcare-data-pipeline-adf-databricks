{
 "cells": [
  {
   "cell_type": "code",
   "execution_count": 0,
   "metadata": {
    "application/vnd.databricks.v1+cell": {
     "cellMetadata": {
      "byteLimit": 2048000,
      "rowLimit": 10000
     },
     "inputWidgets": {},
     "nuid": "5c7c4fbd-d53c-4823-9a8d-44ea7222a707",
     "showTitle": false,
     "tableResultSettingsMap": {},
     "title": ""
    }
   },
   "outputs": [],
   "source": [
    "#Read ICD extracts from bronze layer\n",
    "df=spark.read.format(\"parquet\").load(\"/mnt/bronze/icd_codes/\")\n",
    "\n",
    "df.createOrReplaceTempView(\"staging_icd_codes\")"
   ]
  },
  {
   "cell_type": "code",
   "execution_count": 0,
   "metadata": {
    "application/vnd.databricks.v1+cell": {
     "cellMetadata": {
      "byteLimit": 2048000,
      "implicitDf": true,
      "rowLimit": 10000
     },
     "inputWidgets": {},
     "nuid": "820e0160-6668-40e5-ae00-ec70ea973a98",
     "showTitle": false,
     "tableResultSettingsMap": {},
     "title": ""
    }
   },
   "outputs": [],
   "source": [
    "%sql\n",
    "SELECT * FROM staging_icd_codes"
   ]
  },
  {
   "cell_type": "code",
   "execution_count": 0,
   "metadata": {
    "application/vnd.databricks.v1+cell": {
     "cellMetadata": {
      "byteLimit": 2048000,
      "implicitDf": true,
      "rowLimit": 10000
     },
     "inputWidgets": {},
     "nuid": "6068e6d2-a652-4de8-acfb-4e9078685920",
     "showTitle": false,
     "tableResultSettingsMap": {},
     "title": ""
    }
   },
   "outputs": [],
   "source": [
    "%sql\n",
    "CREATE TABLE IF NOT EXISTS silver.icd_codes(\n",
    "  icd_code STRING,\n",
    "  icd_code_type STRING,\n",
    "  code_description STRING,\n",
    "  inserted_date DATE,\n",
    "  updated_date DATE,\n",
    "  is_current_flag BOOLEAN\n",
    ")"
   ]
  },
  {
   "cell_type": "code",
   "execution_count": 0,
   "metadata": {
    "application/vnd.databricks.v1+cell": {
     "cellMetadata": {
      "byteLimit": 2048000,
      "implicitDf": true,
      "rowLimit": 10000
     },
     "inputWidgets": {},
     "nuid": "c3a580df-1491-4f64-9f99-549cc5ce6d71",
     "showTitle": false,
     "tableResultSettingsMap": {},
     "title": ""
    }
   },
   "outputs": [],
   "source": [
    "%sql\n",
    "MERGE INTO silver.icd_codes AS target\n",
    "USING staging_icd_codes AS source\n",
    "ON target.icd_code = source.icd_code\n",
    "WHEN MATCHED AND\n",
    "  target.code_description != source.code_description\n",
    "THEN UPDATE SET\n",
    "  target.code_description = source.code_description,\n",
    "  target.updated_date = source.updated_date,\n",
    "  target.is_current_flag = False\n",
    "\n",
    "WHEN NOT MATCHED THEN\n",
    "INSERT (\n",
    "  icd_code,\n",
    "  icd_code_type,\n",
    "  code_description,\n",
    "  inserted_date,\n",
    "  updated_date,\n",
    "  is_current_flag\n",
    ")\n",
    "VALUES (\n",
    "    source.icd_code,\n",
    "    source.icd_code_type,\n",
    "    source.code_description,\n",
    "    source.inserted_date,\n",
    "    source.updated_date,\n",
    "    source.is_current_flag\n",
    ")"
   ]
  },
  {
   "cell_type": "code",
   "execution_count": 0,
   "metadata": {
    "application/vnd.databricks.v1+cell": {
     "cellMetadata": {},
     "inputWidgets": {},
     "nuid": "79f7213f-b634-4b8a-ab5d-76c1e658d25a",
     "showTitle": false,
     "tableResultSettingsMap": {},
     "title": ""
    }
   },
   "outputs": [],
   "source": []
  }
 ],
 "metadata": {
  "application/vnd.databricks.v1+notebook": {
   "computePreferences": null,
   "dashboards": [],
   "environmentMetadata": {
    "base_environment": "",
    "environment_version": "3"
   },
   "inputWidgetPreferences": null,
   "language": "python",
   "notebookMetadata": {
    "mostRecentlyExecutedCommandWithImplicitDF": {
     "commandId": 4977644805461152,
     "dataframes": [
      "_sqldf"
     ]
    },
    "pythonIndentUnit": 4
   },
   "notebookName": "ICD Code",
   "widgets": {}
  },
  "language_info": {
   "name": "python"
  }
 },
 "nbformat": 4,
 "nbformat_minor": 0
}
