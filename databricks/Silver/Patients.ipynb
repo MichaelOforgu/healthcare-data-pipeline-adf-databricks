{
 "cells": [
  {
   "cell_type": "code",
   "execution_count": 0,
   "metadata": {
    "application/vnd.databricks.v1+cell": {
     "cellMetadata": {
      "byteLimit": 2048000,
      "rowLimit": 10000
     },
     "inputWidgets": {},
     "nuid": "83de74f3-eeaf-4ef9-b69d-a992980f32f5",
     "showTitle": false,
     "tableResultSettingsMap": {},
     "title": ""
    }
   },
   "outputs": [],
   "source": [
    "#Reading Hospital A patient data\n",
    "df_hosa=spark.read.parquet(\"/mnt/bronze/hosa/patients\")\n",
    "df_hosa.createOrReplaceTempView(\"patients_hosa\")\n",
    "\n",
    "#Reading Hospital B patient data\n",
    "df_hosb=spark.read.parquet(\"/mnt/bronze/hosb/patients\")\n",
    "df_hosb.createOrReplaceTempView(\"patients_hosb\")"
   ]
  },
  {
   "cell_type": "code",
   "execution_count": 0,
   "metadata": {
    "application/vnd.databricks.v1+cell": {
     "cellMetadata": {
      "byteLimit": 2048000,
      "implicitDf": true,
      "rowLimit": 10000
     },
     "inputWidgets": {},
     "nuid": "e4e1e302-89a9-4e7d-b9fb-21706c2020bf",
     "showTitle": false,
     "tableResultSettingsMap": {},
     "title": ""
    }
   },
   "outputs": [],
   "source": [
    "%sql\n",
    "SELECT * FROM patients_hosa"
   ]
  },
  {
   "cell_type": "code",
   "execution_count": 0,
   "metadata": {
    "application/vnd.databricks.v1+cell": {
     "cellMetadata": {
      "byteLimit": 2048000,
      "implicitDf": true,
      "rowLimit": 10000
     },
     "inputWidgets": {},
     "nuid": "0f4e070f-36d2-4c36-993e-457deb71f331",
     "showTitle": false,
     "tableResultSettingsMap": {},
     "title": ""
    }
   },
   "outputs": [],
   "source": [
    "%sql\n",
    "SELECT * FROM patients_hosb"
   ]
  },
  {
   "cell_type": "code",
   "execution_count": 0,
   "metadata": {
    "application/vnd.databricks.v1+cell": {
     "cellMetadata": {
      "byteLimit": 2048000,
      "implicitDf": true,
      "rowLimit": 10000
     },
     "inputWidgets": {},
     "nuid": "c9dfe567-3e2f-4fad-bf47-d0671320119c",
     "showTitle": false,
     "tableResultSettingsMap": {},
     "title": ""
    }
   },
   "outputs": [],
   "source": [
    "%sql\n",
    "CREATE OR REPLACE TEMP VIEW cdm_patients AS\n",
    "SELECT CONCAT(SRC_PatientID,'_',datasource) AS Patient_Key, *\n",
    "FROM (\n",
    "    SELECT\n",
    "      PatientID AS SRC_PatientID,\n",
    "      FirstName,\n",
    "      LastName,\n",
    "      MiddleName,\n",
    "      SSN,\n",
    "      PhoneNumber,\n",
    "      Gender,\n",
    "      DOB,\n",
    "      Address,\n",
    "      ModifiedDate,\n",
    "      datasource\n",
    "    FROM patients_hosa\n",
    "    UNION ALL\n",
    "    SELECT\n",
    "      ID AS SRC_PatientID,\n",
    "      F_Name AS FirstName,\n",
    "      L_Name AS LastName,\n",
    "      M_Name AS MiddleName,\n",
    "      SSN,\n",
    "      PhoneNumber,\n",
    "      Gender,\n",
    "      DOB,\n",
    "      Address,\n",
    "      Updated_Date AS ModifiedDate,\n",
    "      datasource\n",
    "    FROM patients_hosb\n",
    ")"
   ]
  },
  {
   "cell_type": "code",
   "execution_count": 0,
   "metadata": {
    "application/vnd.databricks.v1+cell": {
     "cellMetadata": {
      "byteLimit": 2048000,
      "implicitDf": true,
      "rowLimit": 10000
     },
     "inputWidgets": {},
     "nuid": "103f3cd6-0e29-4eb4-a417-20dc83e58180",
     "showTitle": false,
     "tableResultSettingsMap": {},
     "title": ""
    }
   },
   "outputs": [],
   "source": [
    "%sql\n",
    "SELECT * FROM cdm_patients"
   ]
  },
  {
   "cell_type": "code",
   "execution_count": 0,
   "metadata": {
    "application/vnd.databricks.v1+cell": {
     "cellMetadata": {
      "byteLimit": 2048000,
      "implicitDf": true,
      "rowLimit": 10000
     },
     "inputWidgets": {},
     "nuid": "36388b01-3279-4631-9575-07c52065c0e4",
     "showTitle": false,
     "tableResultSettingsMap": {},
     "title": ""
    }
   },
   "outputs": [],
   "source": [
    "%sql\n",
    "CREATE OR REPLACE TEMP VIEW quality_checks AS\n",
    "SELECT\n",
    "    Patient_Key,\n",
    "    SRC_PatientID,\n",
    "    FirstName,\n",
    "    LastName,\n",
    "    MiddleName,\n",
    "    SSN,\n",
    "    PhoneNumber,\n",
    "    Gender,\n",
    "    DOB,\n",
    "    Address,\n",
    "    ModifiedDate,\n",
    "    datasource,\n",
    "    CASE \n",
    "        WHEN SRC_PatientID IS NULL OR DOB IS NULL OR FirstName IS NULL OR lower(firstname)='null' THEN TRUE \n",
    "        ELSE FALSE \n",
    "    END AS is_quarantined\n",
    "FROM cdm_patients\n"
   ]
  },
  {
   "cell_type": "code",
   "execution_count": 0,
   "metadata": {
    "application/vnd.databricks.v1+cell": {
     "cellMetadata": {
      "byteLimit": 2048000,
      "implicitDf": true,
      "rowLimit": 10000
     },
     "inputWidgets": {},
     "nuid": "549c4305-df35-421e-9e41-9d2b18f51ec8",
     "showTitle": false,
     "tableResultSettingsMap": {},
     "title": ""
    }
   },
   "outputs": [],
   "source": [
    "%sql\n",
    "SELECT * FROM quality_checks\n",
    "ORDER BY is_quarantined DESC\n",
    "LIMIT 20;"
   ]
  },
  {
   "cell_type": "code",
   "execution_count": 0,
   "metadata": {
    "application/vnd.databricks.v1+cell": {
     "cellMetadata": {
      "byteLimit": 2048000,
      "implicitDf": true,
      "rowLimit": 10000
     },
     "inputWidgets": {},
     "nuid": "daed0482-322f-47b4-87c3-c0f04c8264f6",
     "showTitle": false,
     "tableResultSettingsMap": {},
     "title": ""
    }
   },
   "outputs": [],
   "source": [
    "%sql\n",
    "CREATE TABLE IF NOT EXISTS silver.patients(\n",
    "  Patient_Key STRING,\n",
    "  SRC_PatientID STRING,\n",
    "  FirstName STRING,\n",
    "  LastName STRING,\n",
    "  MiddleName STRING,\n",
    "  SSN STRING,\n",
    "  PhoneNumber STRING,\n",
    "  Gender STRING,\n",
    "  DOB DATE,\n",
    "  Address STRING,\n",
    "  SRC_ModifiedDate TIMESTAMP,\n",
    "  datasource STRING,\n",
    "  is_quarantined BOOLEAN,\n",
    "  inserted_date TIMESTAMP,\n",
    "  modified_date TIMESTAMP,\n",
    "  is_current BOOLEAN\n",
    ")\n",
    "USING DELTA;"
   ]
  },
  {
   "cell_type": "code",
   "execution_count": 0,
   "metadata": {
    "application/vnd.databricks.v1+cell": {
     "cellMetadata": {
      "byteLimit": 2048000,
      "implicitDf": true,
      "rowLimit": 10000
     },
     "inputWidgets": {},
     "nuid": "00da1bcb-0adf-493d-a9b2-e5afd1712b26",
     "showTitle": false,
     "tableResultSettingsMap": {},
     "title": ""
    }
   },
   "outputs": [],
   "source": [
    "%sql\n",
    "-- Mark existing records as historical (is_current = false) for patients that will be updated\n",
    "MERGE INTO silver.patients AS target\n",
    "USING quality_checks AS source\n",
    "ON target.Patient_Key = source.Patient_Key\n",
    "AND target.is_current = true \n",
    "WHEN MATCHED \n",
    "  AND (\n",
    "    target.SRC_PatientID != source.SRC_PatientID OR\n",
    "    target.FirstName != source.FirstName OR\n",
    "    target.LastName != source.LastName OR\n",
    "    target.MiddleName != source.MiddleName OR\n",
    "    target.SSN != source.SSN OR\n",
    "    target.PhoneNumber != source.PhoneNumber OR\n",
    "    target.Gender != source.Gender OR\n",
    "    target.DOB != source.DOB OR\n",
    "    target.Address != source.Address OR\n",
    "    target.SRC_ModifiedDate != source.ModifiedDate OR\n",
    "    target.datasource != source.datasource OR \n",
    "    target.is_quarantined != source.is_quarantined\n",
    "  )\n",
    "THEN UPDATE SET\n",
    "    is_current = false,\n",
    "    modified_date = current_timestamp()\n",
    "\n",
    "-- Insert new and updated records into the Delta table, marking them as current\n",
    "WHEN NOT MATCHED\n",
    "THEN INSERT (\n",
    "    Patient_Key,\n",
    "    SRC_PatientID,\n",
    "    FirstName,\n",
    "    LastName,\n",
    "    MiddleName,\n",
    "    SSN,\n",
    "    PhoneNumber,\n",
    "    Gender,\n",
    "    DOB,\n",
    "    Address,\n",
    "    SRC_ModifiedDate,\n",
    "    datasource,\n",
    "    is_quarantined,\n",
    "    inserted_date,\n",
    "    modified_date,\n",
    "    is_current\n",
    ") VALUES (\n",
    "    source.Patient_Key,\n",
    "    source.SRC_PatientID,\n",
    "    source.FirstName,\n",
    "    source.LastName,\n",
    "    source.MiddleName,\n",
    "    source.SSN,\n",
    "    source.PhoneNumber,\n",
    "    source.Gender,\n",
    "    source.DOB,\n",
    "    source.Address,\n",
    "    source.ModifiedDate,\n",
    "    source.datasource,\n",
    "    source.is_quarantined, \n",
    "    current_timestamp(), -- set inserted_date as current timestamp\n",
    "    current_timestamp(), -- set modified_date as current timestamp\n",
    "    true\n",
    ")"
   ]
  },
  {
   "cell_type": "code",
   "execution_count": 0,
   "metadata": {
    "application/vnd.databricks.v1+cell": {
     "cellMetadata": {
      "byteLimit": 2048000,
      "rowLimit": 10000
     },
     "inputWidgets": {},
     "nuid": "a7e4d18c-4310-4cb5-b45b-6dc8b99c3b91",
     "showTitle": false,
     "tableResultSettingsMap": {},
     "title": ""
    }
   },
   "outputs": [],
   "source": []
  }
 ],
 "metadata": {
  "application/vnd.databricks.v1+notebook": {
   "computePreferences": null,
   "dashboards": [],
   "environmentMetadata": {
    "base_environment": "",
    "environment_version": "3"
   },
   "inputWidgetPreferences": null,
   "language": "python",
   "notebookMetadata": {
    "mostRecentlyExecutedCommandWithImplicitDF": {
     "commandId": 6710889578625559,
     "dataframes": [
      "_sqldf"
     ]
    },
    "pythonIndentUnit": 4
   },
   "notebookName": "Patients",
   "widgets": {}
  },
  "language_info": {
   "name": "python"
  }
 },
 "nbformat": 4,
 "nbformat_minor": 0
}
