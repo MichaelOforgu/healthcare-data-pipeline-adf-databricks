{
 "cells": [
  {
   "cell_type": "code",
   "execution_count": 0,
   "metadata": {
    "application/vnd.databricks.v1+cell": {
     "cellMetadata": {
      "byteLimit": 2048000,
      "rowLimit": 10000
     },
     "inputWidgets": {},
     "nuid": "64781661-b121-46a7-8d0a-31948b4d1d35",
     "showTitle": false,
     "tableResultSettingsMap": {},
     "title": ""
    }
   },
   "outputs": [],
   "source": [
    "from pyspark.sql import SparkSession, functions as f\n",
    "\n",
    "claims_df=spark.read.csv(\"/mnt/landing/claims/*.csv\",header=True)\n",
    "\n",
    "claims_df = claims_df.withColumn(\n",
    "    \"datasource\",\n",
    "    f.when(f.input_file_name().contains(\"hospital1\"), \"hosa\").when(f.input_file_name().contains(\"hospital2\"), \"hosb\")\n",
    "     .otherwise(None)\n",
    ")\n",
    "\n",
    "display(claims_df)"
   ]
  },
  {
   "cell_type": "code",
   "execution_count": 0,
   "metadata": {
    "application/vnd.databricks.v1+cell": {
     "cellMetadata": {
      "byteLimit": 2048000,
      "rowLimit": 10000
     },
     "inputWidgets": {},
     "nuid": "4f9f3293-aa57-47b9-b1fb-c11fec792adb",
     "showTitle": false,
     "tableResultSettingsMap": {},
     "title": ""
    }
   },
   "outputs": [],
   "source": [
    "claims_df.write.format(\"parquet\").mode(\"overwrite\").save(\"/mnt/bronze/claims/\")"
   ]
  },
  {
   "cell_type": "code",
   "execution_count": 0,
   "metadata": {
    "application/vnd.databricks.v1+cell": {
     "cellMetadata": {
      "byteLimit": 2048000,
      "rowLimit": 10000
     },
     "inputWidgets": {},
     "nuid": "35da499e-5d40-4be0-88ae-6bf53bdfe4c9",
     "showTitle": false,
     "tableResultSettingsMap": {},
     "title": ""
    }
   },
   "outputs": [],
   "source": [
    "claims_df.createOrReplaceTempView(\"claims\")"
   ]
  },
  {
   "cell_type": "code",
   "execution_count": 0,
   "metadata": {
    "application/vnd.databricks.v1+cell": {
     "cellMetadata": {
      "byteLimit": 2048000,
      "implicitDf": true,
      "rowLimit": 10000
     },
     "inputWidgets": {},
     "nuid": "7f20fbcd-36c4-4bbb-9dbb-23d5960f104a",
     "showTitle": false,
     "tableResultSettingsMap": {},
     "title": ""
    }
   },
   "outputs": [],
   "source": [
    "%sql\n",
    "CREATE OR REPLACE TEMP VIEW quality_checks AS\n",
    "SELECT\n",
    "  concat(ClaimID,'_',datasource) AS ClaimID,\n",
    "  ClaimID AS SRC_ClaimID,\n",
    "  TransactionID,\n",
    "  PatientID,\n",
    "  EncounterID,\n",
    "  ProviderID,\n",
    "  DeptID,\n",
    "  cast(ServiceDate as date) ServiceDate,\n",
    "  cast(ClaimDate as date) ClaimDate,\n",
    "  PayorID,\n",
    "  ClaimAmount,\n",
    "  PaidAmount,\n",
    "  ClaimStatus,\n",
    "  PayorType,\n",
    "  Deductible,\n",
    "  Coinsurance,\n",
    "  Copay,\n",
    "  cast(InsertDate as date) SRC_InsertDate,\n",
    "  cast(ModifiedDate as date) SRC_ModifiedDate,\n",
    "  datasource,\n",
    "  CASE\n",
    "    WHEN ClaimID IS NULL OR TransactionID IS NULL OR PatientID IS NULL OR ServiceDate IS NULL THEN TRUE \n",
    "    ELSE FALSE\n",
    "  END AS is_quarantined\n",
    "FROM claims "
   ]
  },
  {
   "cell_type": "code",
   "execution_count": 0,
   "metadata": {
    "application/vnd.databricks.v1+cell": {
     "cellMetadata": {
      "byteLimit": 2048000,
      "implicitDf": true,
      "rowLimit": 10000
     },
     "inputWidgets": {},
     "nuid": "37a7c168-687b-42dc-a905-e140dcb7d48f",
     "showTitle": false,
     "tableResultSettingsMap": {
      "0": {
       "dataGridStateBlob": "{\"version\":1,\"tableState\":{\"columnPinning\":{\"left\":[\"#row_number#\"],\"right\":[]},\"columnSizing\":{},\"columnVisibility\":{}},\"settings\":{\"columns\":{}},\"syncTimestamp\":1757868194790}",
       "filterBlob": null,
       "queryPlanFiltersBlob": null,
       "tableResultIndex": 0
      }
     },
     "title": ""
    }
   },
   "outputs": [],
   "source": [
    "%sql\n",
    "SELECT * FROM quality_checks"
   ]
  },
  {
   "cell_type": "code",
   "execution_count": 0,
   "metadata": {
    "application/vnd.databricks.v1+cell": {
     "cellMetadata": {
      "byteLimit": 2048000,
      "implicitDf": true,
      "rowLimit": 10000
     },
     "inputWidgets": {},
     "nuid": "c3caf28d-cc11-48cf-a3a4-b6e3edf5733e",
     "showTitle": false,
     "tableResultSettingsMap": {},
     "title": ""
    }
   },
   "outputs": [],
   "source": [
    "%sql\n",
    "CREATE TABLE IF NOT EXISTS silver.claims(\n",
    "  ClaimID STRING,\n",
    "  SRC_ClaimID STRING,\n",
    "  TransactionID STRING,\n",
    "  PatientID STRING,\n",
    "  EncounterID STRING,\n",
    "  ProviderID STRING,\n",
    "  DeptID STRING,\n",
    "  ServiceDate DATE,\n",
    "  ClaimDate DATE,\n",
    "  PayorID STRING,\n",
    "  ClaimAmount STRING,\n",
    "  PaidAmount STRING,\n",
    "  ClaimStatus STRING,\n",
    "  PayorType STRING,\n",
    "  Deductible STRING,\n",
    "  Coinsurance STRING,\n",
    "  Copay STRING,\n",
    "  SRC_InsertDate DATE,\n",
    "  SRC_ModifiedDate DATE,\n",
    "  datasource STRING,\n",
    "  is_quarantined BOOLEAN,\n",
    "  audit_insertedDate TIMESTAMP,\n",
    "  audit_modifiedDate TIMESTAMP,\n",
    "  is_current BOOLEAN\n",
    ")"
   ]
  },
  {
   "cell_type": "code",
   "execution_count": 0,
   "metadata": {
    "application/vnd.databricks.v1+cell": {
     "cellMetadata": {
      "byteLimit": 2048000,
      "implicitDf": true,
      "rowLimit": 10000
     },
     "inputWidgets": {},
     "nuid": "51cc1471-15ac-4a43-9f74-36bdf7814d47",
     "showTitle": false,
     "tableResultSettingsMap": {},
     "title": ""
    }
   },
   "outputs": [],
   "source": [
    "%sql\n",
    "-- Update old records to implement SCD Type 2\n",
    "MERGE INTO silver.claims AS target\n",
    "USING quality_checks AS source\n",
    "ON target.ClaimID = source.ClaimID AND target.is_current = TRUE\n",
    "WHEN MATCHED AND (\n",
    "  target.SRC_ClaimID != source.SRC_ClaimID OR\n",
    "  target.TransactionID != source.TransactionID OR\n",
    "  target.PatientID != source.PatientID OR\n",
    "  target.EncounterID != source.EncounterID OR\n",
    "  target.ProviderID != source.ProviderID OR\n",
    "  target.DeptID != source.DeptID OR\n",
    "  target.ServiceDate != source.ServiceDate OR\n",
    "  target.ClaimDate != source.ClaimDate OR\n",
    "  target.PayorID != source.PayorID OR\n",
    "  target.ClaimAmount != source.ClaimAmount OR\n",
    "  target.PaidAmount != source.PaidAmount OR\n",
    "  target.ClaimStatus != source.ClaimStatus OR\n",
    "  target.PayorType != source.PayorType OR\n",
    "  target.Deductible != source.Deductible OR\n",
    "  target.Coinsurance != source.Coinsurance OR\n",
    "  target.Copay != source.Copay OR\n",
    "  target.SRC_InsertDate != source.SRC_InsertDate OR\n",
    "  target.SRC_ModifiedDate != source.SRC_ModifiedDate OR\n",
    "  target.datasource != source.datasource OR\n",
    "  target.is_quarantined != source.is_quarantined\n",
    ")\n",
    "THEN UPDATE SET\n",
    "  is_current = FALSE,\n",
    "  audit_modifiedDate = current_timestamp()"
   ]
  },
  {
   "cell_type": "code",
   "execution_count": 0,
   "metadata": {
    "application/vnd.databricks.v1+cell": {
     "cellMetadata": {
      "byteLimit": 2048000,
      "implicitDf": true,
      "rowLimit": 10000
     },
     "inputWidgets": {},
     "nuid": "46e1c001-dd9c-44a0-94d9-f6974fec5e7a",
     "showTitle": false,
     "tableResultSettingsMap": {},
     "title": ""
    }
   },
   "outputs": [],
   "source": [
    "%sql\n",
    "-- SCD Type2, insert new/current records\n",
    "MERGE INTO silver.claims AS target\n",
    "USING quality_checks AS source\n",
    "ON target.ClaimID = source.ClaimID AND target.is_current = TRUE\n",
    "WHEN NOT MATCHED THEN\n",
    "INSERT(\n",
    "  ClaimID,\n",
    "  SRC_ClaimID,\n",
    "  TransactionID,\n",
    "  PatientID,\n",
    "  EncounterID,\n",
    "  ProviderID,\n",
    "  DeptID,\n",
    "  ServiceDate,\n",
    "  ClaimDate,\n",
    "  PayorID,\n",
    "  ClaimAmount,\n",
    "  PaidAmount,\n",
    "  ClaimStatus,\n",
    "  PayorType,\n",
    "  Deductible,\n",
    "  Coinsurance,\n",
    "  Copay,\n",
    "  SRC_InsertDate,\n",
    "  SRC_ModifiedDate,\n",
    "  datasource,\n",
    "  is_quarantined,\n",
    "  audit_insertedDate,\n",
    "  audit_modifiedDate,\n",
    "  is_current\n",
    ")\n",
    "VALUES(\n",
    "  source.ClaimID,\n",
    "  source.SRC_ClaimID,\n",
    "  source.TransactionID,\n",
    "  source.PatientID,\n",
    "  source.EncounterID,\n",
    "  source.ProviderID,\n",
    "  source.DeptID,\n",
    "  source.ServiceDate,\n",
    "  source.ClaimDate,\n",
    "  source.PayorID,\n",
    "  source.ClaimAmount,\n",
    "  source.PaidAmount,\n",
    "  source.ClaimStatus,\n",
    "  source.PayorType,\n",
    "  source.Deductible,\n",
    "  source.Coinsurance,\n",
    "  source.Copay,\n",
    "  source.SRC_InsertDate,\n",
    "  source.SRC_ModifiedDate,\n",
    "  source.datasource,\n",
    "  source.is_quarantined,\n",
    "  current_timestamp(),\n",
    "  current_timestamp(),\n",
    "  TRUE\n",
    ")"
   ]
  },
  {
   "cell_type": "code",
   "execution_count": 0,
   "metadata": {
    "application/vnd.databricks.v1+cell": {
     "cellMetadata": {},
     "inputWidgets": {},
     "nuid": "d5ce990e-1920-4423-9535-d1248ae17be1",
     "showTitle": false,
     "tableResultSettingsMap": {},
     "title": ""
    }
   },
   "outputs": [],
   "source": []
  }
 ],
 "metadata": {
  "application/vnd.databricks.v1+notebook": {
   "computePreferences": null,
   "dashboards": [],
   "environmentMetadata": {
    "base_environment": "",
    "environment_version": "3"
   },
   "inputWidgetPreferences": null,
   "language": "python",
   "notebookMetadata": {
    "mostRecentlyExecutedCommandWithImplicitDF": {
     "commandId": 4977644805461133,
     "dataframes": [
      "_sqldf"
     ]
    },
    "pythonIndentUnit": 4
   },
   "notebookName": "Claims",
   "widgets": {}
  },
  "language_info": {
   "name": "python"
  }
 },
 "nbformat": 4,
 "nbformat_minor": 0
}
