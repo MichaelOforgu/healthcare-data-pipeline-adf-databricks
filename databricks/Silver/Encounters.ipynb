{
 "cells": [
  {
   "cell_type": "code",
   "execution_count": 0,
   "metadata": {
    "application/vnd.databricks.v1+cell": {
     "cellMetadata": {
      "byteLimit": 2048000,
      "rowLimit": 10000
     },
     "inputWidgets": {},
     "nuid": "954355b9-e38c-4160-be9b-f59bc3678df7",
     "showTitle": false,
     "tableResultSettingsMap": {},
     "title": ""
    }
   },
   "outputs": [],
   "source": [
    "#Reading Hospital A Encounters data\n",
    "df_hosa = spark.read.parquet(\"/mnt/bronze/hosa/encounters\")\n",
    "\n",
    "#Reading Hospital B Encounters data\n",
    "df_hosb = spark.read.parquet(\"/mnt/bronze/hosb/encounters\")\n",
    "\n",
    "#union two encounters dataframes\n",
    "df_merged = df_hosa.unionByName(df_hosb)\n",
    "display(df_merged)\n",
    "\n",
    "df_merged.createOrReplaceTempView(\"encounters\")"
   ]
  },
  {
   "cell_type": "code",
   "execution_count": 0,
   "metadata": {
    "application/vnd.databricks.v1+cell": {
     "cellMetadata": {
      "byteLimit": 2048000,
      "implicitDf": true,
      "rowLimit": 10000
     },
     "inputWidgets": {},
     "nuid": "f9fa6490-6a6d-441a-81de-37b4d7a202a5",
     "showTitle": false,
     "tableResultSettingsMap": {},
     "title": ""
    }
   },
   "outputs": [],
   "source": [
    "%sql\n",
    "-- Temp view for quality checks\n",
    "CREATE OR REPLACE TEMPORARY VIEW quality_checks AS\n",
    "SELECT\n",
    "    concat(EncounterID,'_',datasource) AS EncounterID,\n",
    "    EncounterID AS SRC_EncounterID,\n",
    "    PatientID,\n",
    "    EncounterDate,\n",
    "    EncounterType,\n",
    "    ProviderID,\n",
    "    DepartmentID,\n",
    "    ProcedureCode,\n",
    "    InsertedDate AS SRC_InsertedDate,\n",
    "    ModifiedDate AS SRC_ModifiedDate,\n",
    "    datasource,\n",
    "    CASE \n",
    "        WHEN EncounterID IS NULL OR PatientID IS NULL THEN TRUE\n",
    "        ELSE FALSE\n",
    "    END AS is_quarantined\n",
    "FROM encounters"
   ]
  },
  {
   "cell_type": "code",
   "execution_count": 0,
   "metadata": {
    "application/vnd.databricks.v1+cell": {
     "cellMetadata": {
      "byteLimit": 2048000,
      "implicitDf": true,
      "rowLimit": 10000
     },
     "inputWidgets": {},
     "nuid": "1d88fc52-1377-49cc-80ad-631049e0ea5c",
     "showTitle": false,
     "tableResultSettingsMap": {
      "0": {
       "dataGridStateBlob": "{\"version\":1,\"tableState\":{\"columnPinning\":{\"left\":[\"#row_number#\"],\"right\":[]},\"columnSizing\":{},\"columnVisibility\":{}},\"settings\":{\"columns\":{}},\"syncTimestamp\":1757866022026}",
       "filterBlob": null,
       "queryPlanFiltersBlob": null,
       "tableResultIndex": 0
      }
     },
     "title": ""
    }
   },
   "outputs": [],
   "source": [
    "%sql\n",
    "SELECT * FROM quality_checks"
   ]
  },
  {
   "cell_type": "code",
   "execution_count": 0,
   "metadata": {
    "application/vnd.databricks.v1+cell": {
     "cellMetadata": {
      "byteLimit": 2048000,
      "implicitDf": true,
      "rowLimit": 10000
     },
     "inputWidgets": {},
     "nuid": "31a9432a-8b24-418f-94c6-3cb8fa5f6783",
     "showTitle": false,
     "tableResultSettingsMap": {},
     "title": ""
    }
   },
   "outputs": [],
   "source": [
    "%sql\n",
    "CREATE TABLE IF NOT EXISTS silver.encounters(\n",
    "  EncounterID STRING,\n",
    "  SRC_EncounterID STRING,\n",
    "  PatientID STRING,\n",
    "  EncounterDate DATE,\n",
    "  EncounterType STRING,\n",
    "  ProviderID STRING,\n",
    "  DepartmentID STRING,\n",
    "  ProcedureCode STRING,\n",
    "  SRC_InsertedDate TIMESTAMP,\n",
    "  SRC_ModifiedDate TIMESTAMP,\n",
    "  datasource STRING,\n",
    "  is_quarantined BOOLEAN,\n",
    "  inserted_date TIMESTAMP,\n",
    "  modified_date TIMESTAMP,\n",
    "  is_current BOOLEAN\n",
    ")"
   ]
  },
  {
   "cell_type": "code",
   "execution_count": 0,
   "metadata": {
    "application/vnd.databricks.v1+cell": {
     "cellMetadata": {
      "byteLimit": 2048000,
      "implicitDf": true,
      "rowLimit": 10000
     },
     "inputWidgets": {},
     "nuid": "c7d01a09-39d6-4d23-9d9d-b6f792f65b97",
     "showTitle": false,
     "tableResultSettingsMap": {},
     "title": ""
    }
   },
   "outputs": [],
   "source": [
    "%sql\n",
    "-- SCD Type 2: insert new/current records\n",
    "MERGE INTO silver.encounters AS target\n",
    "USING quality_checks AS source\n",
    "ON target.EncounterID = source.EncounterID\n",
    "AND target.is_current = true\n",
    "WHEN MATCHED AND(\n",
    "  target.SRC_EncounterID != source.SRC_EncounterID OR\n",
    "  target.PatientID != source.PatientID OR\n",
    "  target.EncounterDate != source.EncounterDate OR\n",
    "  target.EncounterType != source.EncounterType OR\n",
    "  target.ProviderID != source.ProviderID OR\n",
    "  target.DepartmentID != source.DepartmentID OR\n",
    "  target.ProcedureCode != source.ProcedureCode OR\n",
    "  target.SRC_InsertedDate != source.SRC_InsertedDate OR\n",
    "  target.SRC_ModifiedDate != source.SRC_ModifiedDate OR\n",
    "  target.datasource != source.datasource OR\n",
    "  target.is_quarantined != source.is_quarantined\n",
    ") THEN UPDATE SET\n",
    "  target.is_current = false,\n",
    "  target.modified_date = current_timestamp()\n",
    "\n",
    "WHEN NOT MATCHED THEN\n",
    "INSERT(\n",
    "  EncounterID,\n",
    "  SRC_EncounterID,\n",
    "  PatientID,\n",
    "  EncounterDate,\n",
    "  EncounterType,\n",
    "  ProviderID,\n",
    "  DepartmentID,\n",
    "  ProcedureCode,\n",
    "  SRC_InsertedDate,\n",
    "  SRC_ModifiedDate,\n",
    "  datasource,\n",
    "  is_quarantined,\n",
    "  inserted_date,\n",
    "  modified_date,\n",
    "  is_current\n",
    ") \n",
    "VALUES(\n",
    "  source.EncounterID,\n",
    "  source.SRC_EncounterID,\n",
    "  source.PatientID,\n",
    "  source.EncounterDate,\n",
    "  source.EncounterType,\n",
    "  source.ProviderID,\n",
    "  source.DepartmentID,\n",
    "  source.ProcedureCode,\n",
    "  source.SRC_InsertedDate,\n",
    "  source.SRC_ModifiedDate,\n",
    "  source.datasource,\n",
    "  source.is_quarantined,\n",
    "  current_timestamp(),\n",
    "  current_timestamp(),\n",
    "  true\n",
    ");"
   ]
  },
  {
   "cell_type": "code",
   "execution_count": 0,
   "metadata": {
    "application/vnd.databricks.v1+cell": {
     "cellMetadata": {},
     "inputWidgets": {},
     "nuid": "ffb2b397-92e2-4db6-8600-d19203677dda",
     "showTitle": false,
     "tableResultSettingsMap": {},
     "title": ""
    }
   },
   "outputs": [],
   "source": []
  }
 ],
 "metadata": {
  "application/vnd.databricks.v1+notebook": {
   "computePreferences": null,
   "dashboards": [],
   "environmentMetadata": {
    "base_environment": "",
    "environment_version": "3"
   },
   "inputWidgetPreferences": null,
   "language": "python",
   "notebookMetadata": {
    "mostRecentlyExecutedCommandWithImplicitDF": {
     "commandId": 4977644805461128,
     "dataframes": [
      "_sqldf"
     ]
    },
    "pythonIndentUnit": 4
   },
   "notebookName": "Encounters",
   "widgets": {}
  },
  "language_info": {
   "name": "python"
  }
 },
 "nbformat": 4,
 "nbformat_minor": 0
}
