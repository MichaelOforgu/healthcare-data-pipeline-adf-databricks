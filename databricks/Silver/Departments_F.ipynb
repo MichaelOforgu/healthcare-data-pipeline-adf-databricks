{
 "cells": [
  {
   "cell_type": "code",
   "execution_count": 0,
   "metadata": {
    "application/vnd.databricks.v1+cell": {
     "cellMetadata": {
      "byteLimit": 2048000,
      "rowLimit": 10000
     },
     "inputWidgets": {},
     "nuid": "cef0e59f-cdd6-4879-9d6d-f795ff6258fc",
     "showTitle": false,
     "tableResultSettingsMap": {},
     "title": ""
    }
   },
   "outputs": [],
   "source": [
    "from pyspark.sql import SparkSession, functions as f\n",
    "\n",
    "# Reading Hospital A departments data\n",
    "df_hosa = spark.read.parquet(\"/mnt/bronze/hosa/departments\")\n",
    "\n",
    "# Reading Hospital B departments data\n",
    "df_hosb = spark.read.parquet(\"/mnt/bronze/hosb/departments\")\n",
    "\n",
    "# Union two departments dataframes\n",
    "df_merged = df_hosa.unionByName(df_hosb)\n",
    "\n",
    "# Create the dept_id column and reanme deptid to src_dept_id\n",
    "df_merged = df_merged.withColumn(\"SRC_Dept_id\", f.col(\"deptid\"))\\\n",
    "                     .withColumn(\"Dept_id\", f.concat(f.col(\"deptid\"), f.lit(\"_\"), f.col(\"datasource\"))) \\\n",
    "                     .drop(\"deptid\")\n",
    "\n",
    "df_merged.createOrReplaceTempView(\"departments\")"
   ]
  },
  {
   "cell_type": "code",
   "execution_count": 0,
   "metadata": {
    "application/vnd.databricks.v1+cell": {
     "cellMetadata": {
      "byteLimit": 2048000,
      "rowLimit": 10000
     },
     "inputWidgets": {},
     "nuid": "c2eca9e9-9e88-4e3c-b63e-0b87319121c2",
     "showTitle": false,
     "tableResultSettingsMap": {},
     "title": ""
    }
   },
   "outputs": [],
   "source": [
    "df_merged.display()"
   ]
  },
  {
   "cell_type": "code",
   "execution_count": 0,
   "metadata": {
    "application/vnd.databricks.v1+cell": {
     "cellMetadata": {
      "byteLimit": 2048000,
      "implicitDf": true,
      "rowLimit": 10000
     },
     "inputWidgets": {},
     "nuid": "dbcf8869-18e5-475d-9db7-f80e6ed11ff8",
     "showTitle": false,
     "tableResultSettingsMap": {},
     "title": ""
    }
   },
   "outputs": [],
   "source": [
    "%sql\n",
    "USE CATALOG ar_hos_adb_ws; \n",
    "\n",
    "CREATE SCHEMA IF NOT EXISTS silver;\n",
    "\n",
    "CREATE TABLE IF NOT EXISTS silver.departments (\n",
    "  Dept_Id         STRING,\n",
    "  SRC_Dept_Id     STRING,\n",
    "  Name            STRING,\n",
    "  datasource      STRING,\n",
    "  is_quarantined  BOOLEAN\n",
    ") USING DELTA;\n"
   ]
  },
  {
   "cell_type": "code",
   "execution_count": 0,
   "metadata": {
    "application/vnd.databricks.v1+cell": {
     "cellMetadata": {},
     "inputWidgets": {},
     "nuid": "0e7c99ec-f699-4801-a818-419a962d6f77",
     "showTitle": false,
     "tableResultSettingsMap": {},
     "title": ""
    }
   },
   "outputs": [],
   "source": [
    "%sql\n",
    "truncate table silver.departments"
   ]
  },
  {
   "cell_type": "code",
   "execution_count": 0,
   "metadata": {
    "application/vnd.databricks.v1+cell": {
     "cellMetadata": {
      "byteLimit": 2048000,
      "implicitDf": true,
      "rowLimit": 10000
     },
     "inputWidgets": {},
     "nuid": "1237a025-3a4a-4883-ba45-6b86515b7dbc",
     "showTitle": false,
     "tableResultSettingsMap": {},
     "title": ""
    }
   },
   "outputs": [],
   "source": [
    "%sql\n",
    "insert into silver.departments\n",
    "SELECT\n",
    "  Dept_Id,\n",
    "  SRC_Dept_Id,\n",
    "  Name,\n",
    "  datasource,\n",
    "    CASE\n",
    "        WHEN SRC_Dept_Id IS NULL OR Name IS NULL THEN TRUE \n",
    "        ELSE FALSE\n",
    "    END AS is_quarantined\n",
    "FROM departments \n"
   ]
  },
  {
   "cell_type": "code",
   "execution_count": 0,
   "metadata": {
    "application/vnd.databricks.v1+cell": {
     "cellMetadata": {},
     "inputWidgets": {},
     "nuid": "4899eeed-d7ed-49c5-a230-64888b57cb0e",
     "showTitle": false,
     "tableResultSettingsMap": {},
     "title": ""
    }
   },
   "outputs": [],
   "source": []
  }
 ],
 "metadata": {
  "application/vnd.databricks.v1+notebook": {
   "computePreferences": null,
   "dashboards": [],
   "environmentMetadata": {
    "base_environment": "",
    "environment_version": "3"
   },
   "inputWidgetPreferences": null,
   "language": "python",
   "notebookMetadata": {
    "mostRecentlyExecutedCommandWithImplicitDF": {
     "commandId": 8741745161844899,
     "dataframes": [
      "_sqldf"
     ]
    },
    "pythonIndentUnit": 4
   },
   "notebookName": "Departments_F",
   "widgets": {}
  },
  "language_info": {
   "name": "python"
  }
 },
 "nbformat": 4,
 "nbformat_minor": 0
}
