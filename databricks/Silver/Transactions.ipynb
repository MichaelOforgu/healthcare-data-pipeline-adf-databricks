{
 "cells": [
  {
   "cell_type": "code",
   "execution_count": 0,
   "metadata": {
    "application/vnd.databricks.v1+cell": {
     "cellMetadata": {
      "byteLimit": 2048000,
      "rowLimit": 10000
     },
     "inputWidgets": {},
     "nuid": "f4f566af-26f0-481a-a0f0-b1e928b4d803",
     "showTitle": false,
     "tableResultSettingsMap": {},
     "title": ""
    }
   },
   "outputs": [],
   "source": [
    "from pyspark.sql import SparkSession, functions as f\n",
    "\n",
    "#Reading Hospital A departments data \n",
    "df_hosa=spark.read.parquet(\"/mnt/bronze/hosa/transactions\")\n",
    "\n",
    "#Reading Hospital B departments data \n",
    "df_hosb=spark.read.parquet(\"/mnt/bronze/hosb/transactions\")\n",
    "\n",
    "#union two departments dataframes\n",
    "df_merged = df_hosa.unionByName(df_hosb)\n",
    "display(df_merged)\n",
    "\n",
    "df_merged.createOrReplaceTempView(\"transactions\")"
   ]
  },
  {
   "cell_type": "code",
   "execution_count": 0,
   "metadata": {
    "application/vnd.databricks.v1+cell": {
     "cellMetadata": {
      "byteLimit": 2048000,
      "implicitDf": true,
      "rowLimit": 10000
     },
     "inputWidgets": {},
     "nuid": "60ca760b-dc76-4560-b982-e4dc39c804fc",
     "showTitle": false,
     "tableResultSettingsMap": {},
     "title": ""
    }
   },
   "outputs": [],
   "source": [
    "%sql\n",
    "-- Temp view for quality checks\n",
    "CREATE OR REPLACE TEMP VIEW quality_checks AS\n",
    "SELECT \n",
    "  concat(TransactionID,'-', datasource) AS TransactionID,\n",
    "  TransactionID AS SRC_TransactionID,\n",
    "  EncounterID,\n",
    "  PatientID,\n",
    "  ProviderID,\n",
    "  DeptID,\n",
    "  VisitDate,\n",
    "  ServiceDate,\n",
    "  PaidDate,\n",
    "  VisitType,\n",
    "  Amount,\n",
    "  AmountType,\n",
    "  PaidAmount,\n",
    "  ClaimID,\n",
    "  PayorID,\n",
    "  ProcedureCode,\n",
    "  ICDCode,\n",
    "  LineOfBusiness,\n",
    "  MedicaidID,\n",
    "  MedicareID,\n",
    "  InsertDate AS SRC_InsertDate,\n",
    "  ModifiedDate AS SRC_ModifiedDate,\n",
    "  datasource,\n",
    "  CASE \n",
    "    WHEN EncounterID IS NULL OR PatientID IS NULL OR TransactionID IS NULL OR VisitDate IS NULL THEN TRUE\n",
    "    ELSE FALSE\n",
    "  END AS is_quarantined\n",
    "FROM transactions;"
   ]
  },
  {
   "cell_type": "code",
   "execution_count": 0,
   "metadata": {
    "application/vnd.databricks.v1+cell": {
     "cellMetadata": {
      "byteLimit": 2048000,
      "implicitDf": true,
      "rowLimit": 10000
     },
     "inputWidgets": {},
     "nuid": "b365a091-9f9e-4d0f-85fd-35f9ef3f3cbc",
     "showTitle": false,
     "tableResultSettingsMap": {},
     "title": ""
    }
   },
   "outputs": [],
   "source": [
    "%sql\n",
    "-- Target table (Delta)\n",
    "CREATE TABLE IF NOT EXISTS silver.transactions (\n",
    "  TransactionID       STRING,\n",
    "  SRC_TransactionID   STRING,\n",
    "  EncounterID         STRING,\n",
    "  PatientID           STRING,\n",
    "  ProviderID          STRING,\n",
    "  DeptID              STRING,\n",
    "  VisitDate           DATE,\n",
    "  ServiceDate         DATE,\n",
    "  PaidDate            DATE,\n",
    "  VisitType           STRING,\n",
    "  Amount              DOUBLE,\n",
    "  AmountType          STRING,\n",
    "  PaidAmount          DOUBLE,\n",
    "  ClaimID             STRING,\n",
    "  PayorID             STRING,\n",
    "  ProcedureCode       INTEGER,\n",
    "  ICDCode             STRING,\n",
    "  LineOfBusiness      STRING,\n",
    "  MedicaidID          STRING,\n",
    "  MedicareID          STRING,\n",
    "  SRC_InsertDate      DATE,\n",
    "  SRC_ModifiedDate    DATE,\n",
    "  datasource          STRING,\n",
    "  is_quarantined      BOOLEAN,\n",
    "  audit_insertdate    TIMESTAMP,\n",
    "  audit_modifieddate  TIMESTAMP,\n",
    "  is_current          BOOLEAN\n",
    ")\n",
    "USING DELTA;"
   ]
  },
  {
   "cell_type": "code",
   "execution_count": 0,
   "metadata": {
    "application/vnd.databricks.v1+cell": {
     "cellMetadata": {
      "byteLimit": 2048000,
      "implicitDf": true,
      "rowLimit": 10000
     },
     "inputWidgets": {},
     "nuid": "f25bb0df-e8fb-4d08-bb2a-eb814975547f",
     "showTitle": false,
     "tableResultSettingsMap": {},
     "title": ""
    }
   },
   "outputs": [],
   "source": [
    "%sql\n",
    "-- SCD Type 2: close current records when any field changes\n",
    "MERGE INTO silver.transactions AS target\n",
    "USING quality_checks AS source\n",
    "ON target.TransactionID = source.TransactionID\n",
    "AND target.is_current = TRUE\n",
    "WHEN MATCHED AND (\n",
    "  target.SRC_TransactionID != source.SRC_TransactionID OR\n",
    "  target.EncounterID      != source.EncounterID OR\n",
    "  target.PatientID        != source.PatientID OR\n",
    "  target.ProviderID       != source.ProviderID OR\n",
    "  target.DeptID           != source.DeptID OR\n",
    "  target.VisitDate        != source.VisitDate OR\n",
    "  target.ServiceDate      != source.ServiceDate OR\n",
    "  target.PaidDate         != source.PaidDate OR\n",
    "  target.VisitType        != source.VisitType OR\n",
    "  target.Amount           != source.Amount OR\n",
    "  target.AmountType       != source.AmountType OR\n",
    "  target.PaidAmount       != source.PaidAmount OR\n",
    "  target.ClaimID          != source.ClaimID OR\n",
    "  target.PayorID          != source.PayorID OR\n",
    "  target.ProcedureCode    != source.ProcedureCode OR\n",
    "  target.ICDCode          != source.ICDCode OR\n",
    "  target.LineOfBusiness   != source.LineOfBusiness OR\n",
    "  target.MedicaidID       != source.MedicaidID OR\n",
    "  target.MedicareID       != source.MedicareID OR\n",
    "  target.SRC_InsertDate   != source.SRC_InsertDate OR\n",
    "  target.SRC_ModifiedDate != source.SRC_ModifiedDate OR\n",
    "  target.datasource       != source.datasource OR\n",
    "  target.is_quarantined   != source.is_quarantined\n",
    ")\n",
    "THEN UPDATE SET\n",
    "  target.is_current = FALSE,\n",
    "  target.audit_modifieddate = current_timestamp();"
   ]
  },
  {
   "cell_type": "code",
   "execution_count": 0,
   "metadata": {
    "application/vnd.databricks.v1+cell": {
     "cellMetadata": {
      "byteLimit": 2048000,
      "implicitDf": true,
      "rowLimit": 10000
     },
     "inputWidgets": {},
     "nuid": "2df9e34b-5f45-4691-81a6-24209fef1164",
     "showTitle": false,
     "tableResultSettingsMap": {},
     "title": ""
    }
   },
   "outputs": [],
   "source": [
    "%sql\n",
    "-- SCD Type 2: insert new/current records\n",
    "MERGE INTO silver.transactions AS target\n",
    "USING quality_checks AS source\n",
    "ON target.TransactionID = source.TransactionID\n",
    "AND target.is_current = TRUE\n",
    "WHEN NOT MATCHED THEN\n",
    "INSERT (\n",
    "  TransactionID,\n",
    "  SRC_TransactionID,\n",
    "  EncounterID,\n",
    "  PatientID,\n",
    "  ProviderID,\n",
    "  DeptID,\n",
    "  VisitDate,\n",
    "  ServiceDate,\n",
    "  PaidDate,\n",
    "  VisitType,\n",
    "  Amount,\n",
    "  AmountType,\n",
    "  PaidAmount,\n",
    "  ClaimID,\n",
    "  PayorID,\n",
    "  ProcedureCode,\n",
    "  ICDCode,\n",
    "  LineOfBusiness,\n",
    "  MedicaidID,\n",
    "  MedicareID,\n",
    "  SRC_InsertDate,\n",
    "  SRC_ModifiedDate,\n",
    "  datasource,\n",
    "  is_quarantined,\n",
    "  audit_insertdate,\n",
    "  audit_modifieddate,\n",
    "  is_current\n",
    ")\n",
    "VALUES (\n",
    "  source.TransactionID,\n",
    "  source.SRC_TransactionID,\n",
    "  source.EncounterID,\n",
    "  source.PatientID,\n",
    "  source.ProviderID,\n",
    "  source.DeptID,\n",
    "  source.VisitDate,\n",
    "  source.ServiceDate,\n",
    "  source.PaidDate,\n",
    "  source.VisitType,\n",
    "  source.Amount,\n",
    "  source.AmountType,\n",
    "  source.PaidAmount,\n",
    "  source.ClaimID,\n",
    "  source.PayorID,\n",
    "  source.ProcedureCode,\n",
    "  source.ICDCode,\n",
    "  source.LineOfBusiness,\n",
    "  source.MedicaidID,\n",
    "  source.MedicareID,\n",
    "  source.SRC_InsertDate,\n",
    "  source.SRC_ModifiedDate,\n",
    "  source.datasource,\n",
    "  source.is_quarantined,\n",
    "  current_timestamp(),\n",
    "  current_timestamp(),\n",
    "  TRUE\n",
    ");"
   ]
  },
  {
   "cell_type": "code",
   "execution_count": 0,
   "metadata": {
    "application/vnd.databricks.v1+cell": {
     "cellMetadata": {},
     "inputWidgets": {},
     "nuid": "a2d6d7c4-9c61-4e30-99b8-ec351b694f42",
     "showTitle": false,
     "tableResultSettingsMap": {},
     "title": ""
    }
   },
   "outputs": [],
   "source": []
  }
 ],
 "metadata": {
  "application/vnd.databricks.v1+notebook": {
   "computePreferences": null,
   "dashboards": [],
   "environmentMetadata": {
    "base_environment": "",
    "environment_version": "3"
   },
   "inputWidgetPreferences": null,
   "language": "python",
   "notebookMetadata": {
    "mostRecentlyExecutedCommandWithImplicitDF": {
     "commandId": 6710889578625566,
     "dataframes": [
      "_sqldf"
     ]
    },
    "pythonIndentUnit": 4
   },
   "notebookName": "Transactions",
   "widgets": {}
  },
  "language_info": {
   "name": "python"
  }
 },
 "nbformat": 4,
 "nbformat_minor": 0
}
